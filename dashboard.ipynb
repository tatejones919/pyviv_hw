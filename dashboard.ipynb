{
 "cells": [
  {
   "cell_type": "markdown",
   "metadata": {},
   "source": [
    "# San Francisco Rental Prices Dashboard\n",
    "\n",
    "In this notebook, you will compile the visualizations from the previous analysis into functions that can be used for a Panel dashboard."
   ]
  },
  {
   "cell_type": "code",
   "execution_count": 36,
   "metadata": {},
   "outputs": [],
   "source": [
    "# imports\n",
    "import panel as pn\n",
    "pn.extension('plotly')\n",
    "import plotly.express as px\n",
    "import pandas as pd\n",
    "import hvplot.pandas\n",
    "import matplotlib.pyplot as plt\n",
    "import os\n",
    "from pathlib import Path\n",
    "from dotenv import load_dotenv"
   ]
  },
  {
   "cell_type": "code",
   "execution_count": 37,
   "metadata": {},
   "outputs": [],
   "source": [
    "# Read the Mapbox API key\n",
    "load_dotenv('my_key.env')\n",
    "map_box_api = os.getenv(\"my_key\")\n",
    "px.set_mapbox_access_token(map_box_api)"
   ]
  },
  {
   "cell_type": "markdown",
   "metadata": {},
   "source": [
    "# Import Data"
   ]
  },
  {
   "cell_type": "code",
   "execution_count": 38,
   "metadata": {},
   "outputs": [],
   "source": [
    "# Import the necessary CSVs to Pandas DataFrames\n",
    "# YOUR CODE HERE!\n",
    "#Importing CSV\n",
    "file_path = Path(\"sfo_neighborhoods_census_data.csv\")\n",
    "sfo_data = pd.read_csv(file_path, index_col=\"year\")\n",
    "\n",
    "#Housing Units per Neighboorhood Data\n",
    "unit = sfo_data.drop(columns=['neighborhood','sale_price_sqr_foot', 'gross_rent'])\n",
    "units_per_year = unit.groupby('year').mean()\n",
    "\n",
    "#Total Average Sales and Rent per year\n",
    "sales = sfo_data.drop(columns=['neighborhood','housing_units'])\n",
    "average_sale = sales.groupby('year').mean()\n",
    "\n",
    "#Average Sales and Rent Data per year by Neighboorhood\n",
    "sf_data = pd.read_csv(file_path, index_col=\"year\")\n",
    "nh_sale = sf_data.drop(columns=['housing_units', 'gross_rent'])\n",
    "nh_rent = sf_data.drop(columns=['housing_units', 'sale_price_sqr_foot'])\n",
    "\n",
    "#Most Expensive Neighborhoods\n",
    "nh_data = pd.read_csv(file_path)\n",
    "nh_data.drop(columns=\"year\", inplace=True)\n",
    "nh_price = nh_data.groupby('neighborhood').mean()\n",
    "nh_price.sort_values(by='sale_price_sqr_foot', ascending=False, inplace=True)\n",
    "most_expensive = nh_price[0:10]\n",
    "\n",
    "#Reading Coordinates Data\n",
    "nh_coordinates = pd.read_csv('neighborhoods_coordinates.csv')\n",
    "\n",
    "#Creating Data frame to be concatted\n",
    "nh_data_2 = pd.read_csv(file_path)\n",
    "nh_data_2.drop(columns=\"year\", inplace=True)\n",
    "nh_data_avg = nh_data_2.groupby('neighborhood').mean()\n",
    "nh_data_avg.reset_index(inplace=True)\n",
    "\n",
    "#Merging the data for map\n",
    "merge = [nh_coordinates, nh_data_avg]\n",
    "merged_data = pd.concat(merge, axis=1)\n",
    "merged_data.drop(columns='neighborhood', inplace=True)"
   ]
  },
  {
   "cell_type": "markdown",
   "metadata": {},
   "source": [
    "- - -"
   ]
  },
  {
   "cell_type": "markdown",
   "metadata": {},
   "source": [
    "## Panel Visualizations\n",
    "\n",
    "In this section, you will copy the code for each plot type from your analysis notebook and place it into separate functions that Panel can use to create panes for the dashboard. \n",
    "\n",
    "These functions will convert the plot object to a Panel pane.\n",
    "\n",
    "Be sure to include any DataFrame transformation/manipulation code required along with the plotting code.\n",
    "\n",
    "Return a Panel pane object from each function that can be used to build the dashboard.\n",
    "\n",
    "Note: Remove any `.show()` lines from the code. We want to return the plots instead of showing them. The Panel dashboard will then display the plots."
   ]
  },
  {
   "cell_type": "code",
   "execution_count": 39,
   "metadata": {},
   "outputs": [],
   "source": [
    "# Define Panel Visualization Functions\n",
    "def housing_units_per_year():\n",
    "    units_per_year_plot = units_per_year.plot.bar(title= \"San Francisco housing units for 2010 - 2016\")\n",
    "    return units_per_year_plot\n",
    "    \n",
    "    #\"\"\"Housing Units Per Year.\"\"\"\n",
    "    \n",
    "    # YOUR CODE HERE!\n",
    "\n",
    "\n",
    "def average_gross_rent():\n",
    "    avg_rent = average_sale['gross_rent'].plot(title = \"Average Montly Rent for 2010-2016\")\n",
    "    return avg_rent\n",
    "    #\"\"\"Average Gross Rent in San Francisco Per Year.\"\"\"\n",
    "    \n",
    "\n",
    "    # YOUR CODE HERE!\n",
    "\n",
    "def average_gross_sale():\n",
    "    avg_sale = average_sale['sale_price_sqr_foot'].plot(title = \"Average Sale Price Per Square Foot for 2010-2016\")\n",
    "    return avg_sale\n",
    "\n",
    "\n",
    "def average_sales_by_neighborhood():\n",
    "    nh_sales_plot = nh_sale.hvplot(x='year',\n",
    "                                  value_label='Year',\n",
    "                                  y ='sale_price_sqr_foot',\n",
    "                                  groupby='neighborhood',\n",
    "                                  kind='line')\n",
    "    return nh_sales_plot\n",
    "    #\"\"\"Average Sales Price Per Year.\"\"\"\n",
    "    \n",
    "    # YOUR CODE HERE!\n",
    "\n",
    "\n",
    "\n",
    "def average_rent_by_neighborhood():\n",
    "    avg_rent_plot = nh_rent_plot = nh_rent.hvplot(x='year',\n",
    "                                             value_label='Year',\n",
    "                                             y ='gross_rent',\n",
    "                                             groupby='neighborhood',\n",
    "                                             kind='line')\n",
    "    return avg_rent_plot\n",
    "    \"\"\"Average Prices by Neighborhood.\"\"\"\n",
    "    \n",
    "    # YOUR CODE HERE!\n",
    "\n",
    "\n",
    "\n",
    "def top_most_expensive_neighborhoods():\n",
    "    most_expensive_plot = most_expensive.hvplot(x='neighborhood',\n",
    "                                                xlabel='Neighborhood',\n",
    "                                                y='sale_price_sqr_foot',\n",
    "                                                ylabel='Avg Sales Price Per Square Foot',\n",
    "                                                rot=90,\n",
    "                                                kind='bar',\n",
    "                                                height=500)\n",
    "    return most_expensive_plot\n",
    "    #\"\"\"Top 10 Most Expensive Neighborhoods.\"\"\"\n",
    "\n",
    "    # YOUR CODE HERE!\n",
    "\n",
    "\n",
    "def most_expensive_neighborhoods_rent_sales():\n",
    "    sfo_data_plot = sfo_data.hvplot.bar(x='year',\n",
    "                                        y=['gross_rent', 'sale_price_sqr_foot'],\n",
    "                                        groupby='neighborhood',\n",
    "                                        rot=90,height = 500,\n",
    "                                        legend='top_left',\n",
    "                                        xlabel = \"Year\",\n",
    "                                        ylabel=\"Price per Dollars\",\n",
    "                                        title=\"San Francisco Neighboorhood Gross Rent & Sales Price Per Foot\")\n",
    "    return sfo_data_plot\n",
    "    #\"\"\"Comparison of Rent and Sales Prices of Most Expensive Neighborhoods.\"\"\"   \n",
    "    \n",
    "    # YOUR CODE HERE!\n",
    "\n",
    "    \n",
    "    \n",
    "def parallel_coordinates():\n",
    "    \"\"\"Parallel Coordinates Plot.\"\"\"\n",
    "\n",
    "    # YOUR CODE HERE!\n",
    "\n",
    "\n",
    "\n",
    "def parallel_categories():\n",
    "    \"\"\"Parallel Categories Plot.\"\"\"\n",
    "    \n",
    "    # YOUR CODE HERE!\n",
    "\n",
    "\n",
    "\n",
    "def neighborhood_map():\n",
    "    map_plot = px.scatter_mapbox(merged_data,\n",
    "                                 lat=\"Lat\",\n",
    "                                 lon=\"Lon\",\n",
    "                                 size=\"sale_price_sqr_foot\",\n",
    "                                 color=\"gross_rent\",\n",
    "                                 hover_name='Neighborhood',\n",
    "                                 zoom=10\n",
    ")\n",
    "    return map_plot\n",
    "    \"\"\"Neighborhood Map.\"\"\"\n",
    "\n",
    "    # YOUR CODE HERE!\n",
    "\n",
    "\n",
    "def sunburst():\n",
    "    \"\"\"Sunburst Plot.\"\"\"\n",
    "    \n",
    "    # YOUR CODE HERE!\n"
   ]
  },
  {
   "cell_type": "markdown",
   "metadata": {},
   "source": [
    "## Panel Dashboard\n",
    "\n",
    "In this section, you will combine all of the plots into a single dashboard view using Panel. Be creative with your dashboard design!"
   ]
  },
  {
   "cell_type": "code",
   "execution_count": 65,
   "metadata": {},
   "outputs": [
    {
     "data": {
      "image/png": "[encoded data removed]",
      "text/plain": [
       "<Figure size 432x288 with 1 Axes>"
      ]
     },
     "metadata": {
      "needs_background": "light"
     },
     "output_type": "display_data"
    }
   ],
   "source": [
    "# Create a Title for the Dashboard\n",
    "\n",
    "map_page = pn.Column(\n",
    "        \"Average Price Per Square foot and Gross Rent in San Francisco\", neighborhood_map()\n",
    "        )\n",
    "market_analysis = pn.Row(\"Market Analysis For Rent and Sales Price\",\n",
    "                         housing_units_per_year(),\n",
    "                         average_gross_rent(),\n",
    "                         average_gross_sale())\n",
    "\n",
    "neighboohood_analysis = pn.Column(\"Sales and Rent Price by Year\",\n",
    "                                 average_sales_by_neighborhood(),\n",
    "                                 average_rent_by_neighborhood())\n",
    "\n",
    "expensive = pn.Column(\"San Francisco's Most Expensive Neighborhoods\",\n",
    "                      top_most_expensive_neighborhoods(),\n",
    "                      most_expensive_neighborhoods_rent_sales())\n",
    "\n",
    "# Create a tab layout for the dashboard\n",
    "\n",
    "sf_housing_dashboard = pn.Tabs(\n",
    "    (\"Welcome\", map_page), (\"Market Analysis\", market_analysis),(\"Neighborhood Analysis\",neighboohood_analysis),(\"10 Most Expensive\", expensive))"
   ]
  },
  {
   "cell_type": "markdown",
   "metadata": {},
   "source": [
    "## Serve the Panel Dashboard"
   ]
  },
  {
   "cell_type": "code",
   "execution_count": 66,
   "metadata": {},
   "outputs": [
    {
     "data": {},
     "metadata": {},
     "output_type": "display_data"
    },
    {
     "data": {},
     "metadata": {},
     "output_type": "display_data"
    },
    {
     "data": {
      "application/vnd.holoviews_exec.v0+json": "",
      "text/html": [
       "<div id='3516'>\n",
       "\n",
       "\n",
       "\n",
       "\n",
       "\n",
       "  <div class=\"bk-root\" id=\"9a7dccb3-d5c7-462a-b01f-061eb96e6717\" data-root-id=\"3516\"></div>\n",
       "</div>\n",
       "<script type=\"application/javascript\">(function(root) {\n",
       "  function embed_document(root) {\n",
       "    var docs_json = {\"7f71d899-f2cf-43cc-bec9-f65b17e67fc0\":{\"roots\":{\"references\":[{\"attributes\":{\"fill_color\":{\"value\":\"#30a2da\"},\"top\":{\"field\":\"sale_price_sqr_foot\"},\"width\":{\"value\":0.8},\"x\":{\"field\":\"neighborhood\"}},\"id\":\"3708\",\"type\":\"VBar\"},{\"attributes\":{\"callback\":null,\"renderers\":[{\"id\":\"3640\"}],\"tags\":[\"hv_created\"],\"tooltips\":[[\"year\",\"@{year}\"],[\"gross_rent\",\"@{gross_rent}\"]]},\"id\":\"3603\",\"type\":\"HoverTool\"},{\"attributes\":{\"text\":\"\",\"text_color\":{\"value\":\"black\"},\"text_font_size\":{\"value\":\"12pt\"}},\"id\":\"3677\",\"type\":\"Title\"},{\"attributes\":{},\"id\":\"3681\",\"type\":\"CategoricalScale\"},{\"attributes\":{\"children\":[{\"id\":\"3668\"}],\"css_classes\":[\"panel-widget-box\"],\"margin\":[5,5,5,5],\"name\":\"WidgetBox06656\"},\"id\":\"3667\",\"type\":\"Column\"},{\"attributes\":{\"axis\":{\"id\":\"3685\"},\"grid_line_color\":null,\"ticker\":null},\"id\":\"3687\",\"type\":\"Grid\"},{\"attributes\":{\"active_drag\":\"auto\",\"active_inspect\":\"auto\",\"active_multi\":null,\"active_scroll\":\"auto\",\"active_tap\":\"auto\",\"tools\":[{\"id\":\"3533\"},{\"id\":\"3551\"},{\"id\":\"3552\"},{\"id\":\"3553\"},{\"id\":\"3554\"},{\"id\":\"3555\"}]},\"id\":\"3557\",\"type\":\"Toolbar\"},{\"attributes\":{\"children\":[{\"id\":\"3672\"},{\"id\":\"3676\"},{\"id\":\"3733\"}],\"margin\":[0,0,0,0],\"name\":\"Column06778\"},\"id\":\"3671\",\"type\":\"Column\"},{\"attributes\":{\"callback\":null,\"renderers\":[{\"id\":\"3711\"}],\"tags\":[\"hv_created\"],\"tooltips\":[[\"neighborhood\",\"@{neighborhood}\"],[\"sale_price_sqr_foot\",\"@{sale_price_sqr_foot}\"]]},\"id\":\"3675\",\"type\":\"HoverTool\"},{\"attributes\":{\"child\":{\"id\":\"3522\"},\"name\":\"Row06600\",\"title\":\"Market Analysis\"},\"id\":\"3527\",\"type\":\"Panel\"},{\"attributes\":{\"text\":\"neighborhood: Alamo Square\",\"text_color\":{\"value\":\"black\"},\"text_font_size\":{\"value\":\"12pt\"}},\"id\":\"3605\",\"type\":\"Title\"},{\"attributes\":{\"css_classes\":[\"markdown\"],\"margin\":[5,5,5,5],\"name\":\"Markdown06592\",\"text\":\"&lt;p&gt;Market Analysis For Rent and Sales Price&lt;/p&gt;\"},\"id\":\"3523\",\"type\":\"panel.models.markup.HTML\"},{\"attributes\":{\"factors\":[\"Union Square District\",\"Merced Heights\",\"Miraloma Park\",\"Pacific Heights\",\"Westwood Park\",\"Telegraph Hill\",\"Presidio Heights\",\"Cow Hollow\",\"Potrero Hill\",\"South Beach\"],\"tags\":[[[\"neighborhood\",\"neighborhood\",null]]]},\"id\":\"3673\",\"type\":\"FactorRange\"},{\"attributes\":{},\"id\":\"3609\",\"type\":\"LinearScale\"},{\"attributes\":{},\"id\":\"3686\",\"type\":\"CategoricalTicker\"},{\"attributes\":{\"below\":[{\"id\":\"3685\"}],\"center\":[{\"id\":\"3687\"},{\"id\":\"3691\"}],\"left\":[{\"id\":\"3688\"}],\"margin\":[5,5,5,5],\"min_border_bottom\":10,\"min_border_left\":10,\"min_border_right\":10,\"min_border_top\":10,\"plot_height\":500,\"plot_width\":700,\"renderers\":[{\"id\":\"3711\"}],\"sizing_mode\":\"fixed\",\"title\":{\"id\":\"3677\"},\"toolbar\":{\"id\":\"3698\"},\"x_range\":{\"id\":\"3673\"},\"x_scale\":{\"id\":\"3681\"},\"y_range\":{\"id\":\"3532\"},\"y_scale\":{\"id\":\"3683\"}},\"id\":\"3676\",\"subtype\":\"Figure\",\"type\":\"Plot\"},{\"attributes\":{},\"id\":\"3635\",\"type\":\"Selection\"},{\"attributes\":{\"margin\":[5,5,5,5],\"name\":\"Str06598\",\"text\":\"&lt;pre&gt;AxesSubplot(0.125,0.125;0.775x0.755)&lt;/pre&gt;\"},\"id\":\"3526\",\"type\":\"panel.models.markup.HTML\"},{\"attributes\":{\"axis_label\":\"Neighborhood\",\"bounds\":\"auto\",\"formatter\":{\"id\":\"3714\"},\"major_label_orientation\":1.5707963267948966,\"ticker\":{\"id\":\"3686\"}},\"id\":\"3685\",\"type\":\"CategoricalAxis\"},{\"attributes\":{\"end\":4705.1,\"reset_end\":4705.1,\"reset_start\":923.9,\"start\":923.9,\"tags\":[[[\"gross_rent\",\"gross_rent\",null]]]},\"id\":\"3602\",\"type\":\"Range1d\"},{\"attributes\":{\"factors\":[\"gross_rent\",\"sale_price_sqr_foot\"],\"palette\":[\"#30a2da\",\"#fc4f30\"]},\"id\":\"3766\",\"type\":\"CategoricalColorMapper\"},{\"attributes\":{\"margin\":[5,5,5,5],\"name\":\"VSpacer06776\",\"sizing_mode\":\"stretch_height\"},\"id\":\"3802\",\"type\":\"Spacer\"},{\"attributes\":{\"axis\":{\"id\":\"3688\"},\"dimension\":1,\"grid_line_color\":null,\"ticker\":null},\"id\":\"3691\",\"type\":\"Grid\"},{\"attributes\":{},\"id\":\"3614\",\"type\":\"BasicTicker\"},{\"attributes\":{\"axis\":{\"id\":\"3613\"},\"grid_line_color\":null,\"ticker\":null},\"id\":\"3616\",\"type\":\"Grid\"},{\"attributes\":{},\"id\":\"3693\",\"type\":\"PanTool\"},{\"attributes\":{},\"id\":\"3683\",\"type\":\"LinearScale\"},{\"attributes\":{\"below\":[{\"id\":\"3613\"}],\"center\":[{\"id\":\"3616\"},{\"id\":\"3620\"}],\"left\":[{\"id\":\"3617\"}],\"margin\":[5,5,5,5],\"min_border_bottom\":10,\"min_border_left\":10,\"min_border_right\":10,\"min_border_top\":10,\"plot_height\":300,\"plot_width\":700,\"renderers\":[{\"id\":\"3640\"}],\"sizing_mode\":\"fixed\",\"title\":{\"id\":\"3605\"},\"toolbar\":{\"id\":\"3627\"},\"x_range\":{\"id\":\"3531\"},\"x_scale\":{\"id\":\"3609\"},\"y_range\":{\"id\":\"3602\"},\"y_scale\":{\"id\":\"3611\"}},\"id\":\"3604\",\"subtype\":\"Figure\",\"type\":\"Plot\"},{\"attributes\":{\"axis_label\":\"Avg Sales Price Per Square Foot\",\"bounds\":\"auto\",\"formatter\":{\"id\":\"3716\"},\"major_label_orientation\":\"horizontal\",\"ticker\":{\"id\":\"3689\"}},\"id\":\"3688\",\"type\":\"LinearAxis\"},{\"attributes\":{},\"id\":\"3689\",\"type\":\"BasicTicker\"},{\"attributes\":{},\"id\":\"3622\",\"type\":\"PanTool\"},{\"attributes\":{\"margin\":[0,0,0,0],\"tabs\":[{\"id\":\"3521\"},{\"id\":\"3527\"},{\"id\":\"3670\"},{\"id\":\"3803\"}]},\"id\":\"3516\",\"type\":\"Tabs\"},{\"attributes\":{\"child\":{\"id\":\"3671\"},\"name\":\"Column06778\",\"title\":\"10 Most Expensive\"},\"id\":\"3803\",\"type\":\"Panel\"},{\"attributes\":{},\"id\":\"3611\",\"type\":\"LinearScale\"},{\"attributes\":{\"axis_label\":\"year\",\"bounds\":\"auto\",\"formatter\":{\"id\":\"3643\"},\"major_label_orientation\":\"horizontal\",\"ticker\":{\"id\":\"3614\"}},\"id\":\"3613\",\"type\":\"LinearAxis\"},{\"attributes\":{},\"id\":\"3694\",\"type\":\"WheelZoomTool\"},{\"attributes\":{\"axis\":{\"id\":\"3617\"},\"dimension\":1,\"grid_line_color\":null,\"ticker\":null},\"id\":\"3620\",\"type\":\"Grid\"},{\"attributes\":{},\"id\":\"3692\",\"type\":\"SaveTool\"},{\"attributes\":{\"children\":[{\"id\":\"3534\"},{\"id\":\"3596\"}],\"margin\":[0,0,0,0],\"name\":\"Row06646\"},\"id\":\"3530\",\"type\":\"Row\"},{\"attributes\":{\"overlay\":{\"id\":\"3697\"}},\"id\":\"3695\",\"type\":\"BoxZoomTool\"},{\"attributes\":{\"child\":{\"id\":\"3517\"},\"name\":\"Column06591\",\"title\":\"Welcome\"},\"id\":\"3521\",\"type\":\"Panel\"},{\"attributes\":{\"children\":[{\"id\":\"3518\"},{\"id\":\"3520\"}],\"margin\":[0,0,0,0],\"name\":\"Column06591\"},\"id\":\"3517\",\"type\":\"Column\"},{\"attributes\":{\"axis_label\":\"gross_rent\",\"bounds\":\"auto\",\"formatter\":{\"id\":\"3645\"},\"major_label_orientation\":\"horizontal\",\"ticker\":{\"id\":\"3618\"}},\"id\":\"3617\",\"type\":\"LinearAxis\"},{\"attributes\":{},\"id\":\"3696\",\"type\":\"ResetTool\"},{\"attributes\":{},\"id\":\"3618\",\"type\":\"BasicTicker\"},{\"attributes\":{},\"id\":\"3623\",\"type\":\"WheelZoomTool\"},{\"attributes\":{\"fill_alpha\":{\"value\":0.2},\"fill_color\":{\"value\":\"#30a2da\"},\"line_alpha\":{\"value\":0.2},\"top\":{\"field\":\"sale_price_sqr_foot\"},\"width\":{\"value\":0.8},\"x\":{\"field\":\"neighborhood\"}},\"id\":\"3710\",\"type\":\"VBar\"},{\"attributes\":{\"css_classes\":[\"markdown\"],\"margin\":[5,5,5,5],\"name\":\"Markdown06643\",\"text\":\"&lt;p&gt;Sales and Rent Price by Year&lt;/p&gt;\"},\"id\":\"3529\",\"type\":\"panel.models.markup.HTML\"},{\"attributes\":{\"css_classes\":[\"markdown\"],\"margin\":[5,5,5,5],\"name\":\"Markdown06587\",\"text\":\"&lt;p&gt;Average Price Per Square foot and Gross Rent in San Francisco&lt;/p&gt;\"},\"id\":\"3518\",\"type\":\"panel.models.markup.HTML\"},{\"attributes\":{},\"id\":\"3621\",\"type\":\"SaveTool\"},{\"attributes\":{\"client_comm_id\":\"73da5e8c17d343da898da57e912dc9b9\",\"comm_id\":\"1609d7f13840404bb6f8189c8202ef05\",\"plot_id\":\"3516\"},\"id\":\"3906\",\"type\":\"panel.models.comm_manager.CommManager\"},{\"attributes\":{\"data_source\":{\"id\":\"3705\"},\"glyph\":{\"id\":\"3708\"},\"hover_glyph\":null,\"muted_glyph\":{\"id\":\"3710\"},\"nonselection_glyph\":{\"id\":\"3709\"},\"selection_glyph\":null,\"view\":{\"id\":\"3712\"}},\"id\":\"3711\",\"type\":\"GlyphRenderer\"},{\"attributes\":{\"overlay\":{\"id\":\"3626\"}},\"id\":\"3624\",\"type\":\"BoxZoomTool\"},{\"attributes\":{\"children\":[{\"id\":\"3604\"},{\"id\":\"3666\"}],\"margin\":[0,0,0,0],\"name\":\"Row06655\"},\"id\":\"3600\",\"type\":\"Row\"},{\"attributes\":{},\"id\":\"3625\",\"type\":\"ResetTool\"},{\"attributes\":{},\"id\":\"3722\",\"type\":\"UnionRenderers\"},{\"attributes\":{\"data\":{\"hovertext\":[[\"Alamo Square\",\"Anza Vista\",\"Bayview\",\"Bayview Heights\",\"Bernal Heights\",\"Buena Vista Park\",\"Central Richmond\",\"Central Sunset\",\"Clarendon Heights\",\"Corona Heights\",\"Cow Hollow\",\"Croker Amazon\",\"Diamond Heights\",\"Downtown\",\"Duboce Triangle\",\"Eureka Valley/Dolores Heights\",\"Excelsior\",\"Financial District North\",\"Financial District South\",\"Forest Knolls\",\"Glen Park\",\"Golden Gate Heights\",\"Haight Ashbury\",\"Hayes Valley\",\"Hunters Point\",\"Ingleside\",\"Ingleside Heights\",\"Inner Mission\",\"Inner Parkside\",\"Inner Richmond\",\"Inner Sunset\",\"Jordan Park/Laurel Heights\",\"Lake --The Presidio\",\"Lone Mountain\",\"Lower Pacific Heights\",\"Marina\",\"Merced Heights\",\"Midtown Terrace\",\"Miraloma Park\",\"Mission Bay\",\"Mission Dolores\",\"Mission Terrace\",\"Nob Hill\",\"Noe Valley\",\"North Beach\",\"North Waterfront\",\"Oceanview\",\"Outer Mission\",\"Outer Parkside\",\"Outer Richmond\",\"Outer Sunset\",\"Pacific Heights\",\"Park North\",\"Parkside\",\"Parnassus/Ashbury Heights\",\"Portola\",\"Potrero Hill\",\"Presidio Heights\",\"Russian Hill\",\"Silver Terrace\",\"South Beach\",\"South of Market\",\"Sunnyside\",\"Telegraph Hill\",\"Twin Peaks\",\"Union Square District\",\"Van Ness/ Civic Center\",\"Visitacion Valley\",\"West Portal\",\"Western Addition\",\"Westwood Highlands\",\"Westwood Park\",\"Yerba Buena\"]],\"lat\":[{\"__ndarray__\":\"LV+X4T/lQkB1AwXeyeNCQBmto6oJ3kJAvqQxWkfdQkA3cXK/Q91CQDUMHxFT4kJAVvFG5pHjQkCVYHE4899CQPjfSnZs4EJAcQM+P4zkQkDoMF9egOVCQD/G3LWE3EJAN3Fyv0PdQkCMZ9DQP+VCQMPYQpCD4kJA8WjjiLXgQkC+pDFaR91CQIxn0NA/5UJAjGfQ0D/lQkANjpJX5+BCQDdxcr9D3UJAe5+qQgPhQkDLoUW28+FCQMuhRbbz4UJA4nX9gt3cQkBJE+8AT9xCQHiXi/hO3EJAxvmbUIjgQkCVYHE4899CQAd7E0Ny4kJAlWBxOPPfQkBxAz4/jORCQIKLFTWY5kJAXW3F/rLjQkDoMF9egOVCQIP6ljld5kJAY7SOqibcQkD430p2bOBCQOAtkKD43UJAgJ9x4UDkQkCO6QlLPOBCQDdxcr9D3UJA6DBfXoDlQkD430p2bOBCQApoImx45kJACmgibHjmQkBjtI6qJtxCQD/G3LWE3EJAnDOitDfgQkBmg0wycuJCQJVgcTjz30JA6DBfXoDlQkC+h0uOO91CQJVgcTjz30JAL26jAbzhQkAZraOqCd5CQHb9gt2w3UJAcQM+P4zkQkDoMF9egOVCQBmto6oJ3kJAgJ9x4UDkQkCMZ9DQP+VCQOAtkKD43UJACmgibHjmQkDIW65+bOBCQIxn0NA/5UJA1nPS+8bjQkC+pDFaR91CQLtE9dbA3kJA6DBfXoDlQkCDL0ymCt5CQOAtkKD43UJA6DBfXoDlQkA=\",\"dtype\":\"float64\",\"order\":\"little\",\"shape\":[73]}],\"lon\":[{\"__ndarray__\":\"L26jAbyZXsA5mE2AYZxewPbuj/eqmV7A2NMOf02aXsCKH2PuWpxewLWJk/sdnF7AQ8pPqn2cXsB+VwT/W59ewC2VtyOcnF7Ad76fGi+dXsAge73745tewEPFOH8TnF7Aih9j7lqcXsAvbqMBvJlewOif4GJFm17ABCFZwAScXsDY0w5/TZpewC9uowG8mV7AL26jAbyZXsAlr84xIJ1ewIofY+5anF7AKCzxgLKdXsBOl8XE5ptewE6XxcTmm17ApFNXPsuXXsBmu0IfLJ9ewDc3picsn17AzemymNiaXsB+VwT/W59ewEjdzr7ynl7AWoEhq1ufXsB3vp8aL51ewInvxKwXnV7APj+MEB6dXsAge73745tewBY1mIbhnV7Aj+TyH9KdXsAtlbcjnJxewGiR7Xw/nV7AHcnlP6SZXsC6ZvLNNptewIofY+5anF7AIHu9++ObXsAtlbcjnJxewKuy74rgmV7Aq7LviuCZXsCP5PIf0p1ewEPFOH8TnF7ABoGVQ4ucXsDp1JXP8p5ewH5XBP9bn17AIHu9++ObXsDGM2jon55ewH5XBP9bn17A7MA5I0qdXsD27o/3qplewDihEAGHmF7Ad76fGi+dXsAge73745tewPbuj/eqmV7AHcnlP6SZXsAvbqMBvJlewGiR7Xw/nV7Aq7LviuCZXsBF14UfnJxewC9uowG8mV7AAkht4uSaXsDY0w5/TZpewC9RvTWwnV7AIHu9++ObXsD/Qo8YPZ1ewGiR7Xw/nV7AU1xV9l2ZXsA=\",\"dtype\":\"float64\",\"order\":\"little\",\"shape\":[73]}],\"marker.color\":[{\"__ndarray__\":\"SZIkSZICpkCrqqqqqq+nQM3MzMzMHKJAAAAAAAA2rUCrqqqqqhCoQKuqqqqqFaVASZIkSZICpkBJkiRJkgKmQAAAAAAAlaFAAAAAAABQo0BJkiRJkgKmQKuqqqqqFaVAAAAAAACAn0BJkiRJkgKmQAAAAACAuKVASZIkSZICpkCrqqqqqq+nQEmSJEmSAqZAAAAAAABQo0AAAAAAANabQAAAAAAAp6ZAzczMzMxSpEBJkiRJkgKmQEmSJEmSAqZAAAAAAAByo0AAAAAAAJqjQAAAAAAAIKdASZIkSZICpkAAAAAAADCpQEmSJEmSAqZASZIkSZICpkBJkiRJkgKmQFVVVVVV9qNAVVVVVVX2o0BJkiRJkgKmQEmSJEmSAqZAAAAAAACsqkAAAAAAAK+kQAAAAACA1qBAVVVVVVXPpEBVVVVVVfajQM3MzMzMyqhASZIkSZICpkBJkiRJkgKmQJqZmZmZXadAzczMzMwEpkAAAAAAAASjQAAAAACAZ6dASZIkSZICpkBJkiRJkgKmQEmSJEmSAqZASZIkSZICpkBJkiRJkgKmQFVVVVVV9qNASZIkSZICpkDNzMzMzByiQEmSJEmSAqZASZIkSZICpkBJkiRJkgKmQAAAAAAAkKtAAAAAAABmoEBJkiRJkgKmQAAAAAAAp6ZASZIkSZICpkBJkiRJkgKmQFVVVVVV9qNASZIkSZICpkAAAAAAAJKsQAAAAAAAp6NAVVVVVVX2o0AAAAAAAJWhQAAAAAAA7q5AVVVVVVX2o0A=\",\"dtype\":\"float64\",\"order\":\"little\",\"shape\":[73]}],\"marker.size\":[{\"__ndarray__\":\"cJyd1VTgdkAk1Xd7HVZ3QMu7p//VkmlA/23ou1d2gkCxicLO+AWCQODeULPjSnxAkiM5JcKmeEDxRHrAAXt6QGEgnA3rc35AdiCNAlBcgkALV25bts+EQC2aqyMR8HJADjYuKt4ve0A/Exo283Z4QAT0IiSWaX9Azb8HR/0RhECLIKw8QUx4QEysfO/MdXhARl0VIGF9fEDnKA0RdB10QMj/9wKcfoNAauR3ASb7g0BCjahYtxh8QD+b/9zsPnZABT/1V/9TZUCYt5qCUv52QPiqSlDEDHhAfmgaicfaeECrA3m3FTuAQN85W0+CqXdAyXixJK7aeUCo3p7PEouAQBsbzgZFn3lA1YI2J6jjfUACLzpc59mAQOp1/4D+PYJAfSK5L8KmiEDjM3wxFTSBQFx/3pp8XohAcr9Bp4mxgUC9Hcljpi56QAabwse6W4BAhQqU+EOjfEAzwd8Vi/OAQA1GhppZunlANoyg6lAkf0A0VzbjjqF0QGKNxdbeS25ATpTGpG5QfkAuXEiRaZ59QGJw/yeBo3hAFZsVUHKMhUAyVprHuVt3QBQ4ODjDAnVAYJzjcuzFg0CTVGKj0nF0QJrMCuEbsIRAy835O80ahUBvvf+g3QeDQNMptI5cSWVAya3y7v5QhECH4cLhK9KBQP9hf/GLgoBAuwqFeA0khUCLIC7GYFZ9QCUQFDHyP4xAR1RQI2dCeUCgCCJ5dddyQMn0d9XQJ39AX2t0xv44c0BA3+aooa2AQGvQRFqzeIVAg478xK0FgkA=\",\"dtype\":\"float64\",\"order\":\"little\",\"shape\":[73]}]},\"selected\":{\"id\":\"3806\"},\"selection_policy\":{\"id\":\"3805\"}},\"id\":\"3519\",\"type\":\"ColumnDataSource\"},{\"attributes\":{},\"id\":\"3714\",\"type\":\"CategoricalTickFormatter\"},{\"attributes\":{\"data\":{\"sale_price_sqr_foot\":{\"__ndarray__\":\"DUc7WO0yckCafszcbwhxQIKRs5ot42ZAKDog0LQ8eEAVMinKGEd+QI4V5FDt0IJAVCHcmLVPdUA=\",\"dtype\":\"float64\",\"order\":\"little\",\"shape\":[7]},\"year\":[2010,2011,2012,2013,2014,2015,2016]},\"selected\":{\"id\":\"3565\"},\"selection_policy\":{\"id\":\"3585\"}},\"id\":\"3564\",\"type\":\"ColumnDataSource\"},{\"attributes\":{\"_render_count\":0,\"config\":null,\"data\":[{\"hovertemplate\":\"<b>%{hovertext}</b><br><br>sale_price_sqr_foot=%{marker.size}<br>Lat=%{lat}<br>Lon=%{lon}<br>gross_rent=%{marker.color}<extra></extra>\",\"legendgroup\":\"\",\"marker\":{\"coloraxis\":\"coloraxis\",\"sizemode\":\"area\",\"sizeref\":2.259983144180161},\"mode\":\"markers\",\"name\":\"\",\"showlegend\":false,\"subplot\":\"mapbox\",\"type\":\"scattermapbox\"}],\"data_sources\":[{\"id\":\"3519\"}],\"layout\":{\"coloraxis\":{\"colorbar\":{\"title\":{\"text\":\"gross_rent\"}},\"colorscale\":[[0.0,\"#0d0887\"],[0.1111111111111111,\"#46039f\"],[0.2222222222222222,\"#7201a8\"],[0.3333333333333333,\"#9c179e\"],[0.4444444444444444,\"#bd3786\"],[0.5555555555555556,\"#d8576b\"],[0.6666666666666666,\"#ed7953\"],[0.7777777777777778,\"#fb9f3a\"],[0.8888888888888888,\"#fdca26\"],[1.0,\"#f0f921\"]]},\"legend\":{\"itemsizing\":\"constant\",\"tracegroupgap\":0},\"mapbox\":{\"accesstoken\":\"pk.eyJ1IjoidGF0ZWpvbmVzOTE5IiwiYSI6ImNrbXpseGV3NjBmNXEycW84NnBvZG52ZzkifQ.5PVHyHALX4zLjIN-moWTxQ\",\"center\":{\"lat\":37.76019350684932,\"lon\":-122.43912380821916},\"domain\":{\"x\":[0.0,1.0],\"y\":[0.0,1.0]},\"zoom\":10},\"margin\":{\"t\":60},\"template\":{\"data\":{\"bar\":[{\"error_x\":{\"color\":\"#2a3f5f\"},\"error_y\":{\"color\":\"#2a3f5f\"},\"marker\":{\"line\":{\"color\":\"#E5ECF6\",\"width\":0.5}},\"type\":\"bar\"}],\"barpolar\":[{\"marker\":{\"line\":{\"color\":\"#E5ECF6\",\"width\":0.5}},\"type\":\"barpolar\"}],\"carpet\":[{\"aaxis\":{\"endlinecolor\":\"#2a3f5f\",\"gridcolor\":\"white\",\"linecolor\":\"white\",\"minorgridcolor\":\"white\",\"startlinecolor\":\"#2a3f5f\"},\"baxis\":{\"endlinecolor\":\"#2a3f5f\",\"gridcolor\":\"white\",\"linecolor\":\"white\",\"minorgridcolor\":\"white\",\"startlinecolor\":\"#2a3f5f\"},\"type\":\"carpet\"}],\"choropleth\":[{\"colorbar\":{\"outlinewidth\":0,\"ticks\":\"\"},\"type\":\"choropleth\"}],\"contour\":[{\"colorbar\":{\"outlinewidth\":0,\"ticks\":\"\"},\"colorscale\":[[0.0,\"#0d0887\"],[0.1111111111111111,\"#46039f\"],[0.2222222222222222,\"#7201a8\"],[0.3333333333333333,\"#9c179e\"],[0.4444444444444444,\"#bd3786\"],[0.5555555555555556,\"#d8576b\"],[0.6666666666666666,\"#ed7953\"],[0.7777777777777778,\"#fb9f3a\"],[0.8888888888888888,\"#fdca26\"],[1.0,\"#f0f921\"]],\"type\":\"contour\"}],\"contourcarpet\":[{\"colorbar\":{\"outlinewidth\":0,\"ticks\":\"\"},\"type\":\"contourcarpet\"}],\"heatmap\":[{\"colorbar\":{\"outlinewidth\":0,\"ticks\":\"\"},\"colorscale\":[[0.0,\"#0d0887\"],[0.1111111111111111,\"#46039f\"],[0.2222222222222222,\"#7201a8\"],[0.3333333333333333,\"#9c179e\"],[0.4444444444444444,\"#bd3786\"],[0.5555555555555556,\"#d8576b\"],[0.6666666666666666,\"#ed7953\"],[0.7777777777777778,\"#fb9f3a\"],[0.8888888888888888,\"#fdca26\"],[1.0,\"#f0f921\"]],\"type\":\"heatmap\"}],\"heatmapgl\":[{\"colorbar\":{\"outlinewidth\":0,\"ticks\":\"\"},\"colorscale\":[[0.0,\"#0d0887\"],[0.1111111111111111,\"#46039f\"],[0.2222222222222222,\"#7201a8\"],[0.3333333333333333,\"#9c179e\"],[0.4444444444444444,\"#bd3786\"],[0.5555555555555556,\"#d8576b\"],[0.6666666666666666,\"#ed7953\"],[0.7777777777777778,\"#fb9f3a\"],[0.8888888888888888,\"#fdca26\"],[1.0,\"#f0f921\"]],\"type\":\"heatmapgl\"}],\"histogram\":[{\"marker\":{\"colorbar\":{\"outlinewidth\":0,\"ticks\":\"\"}},\"type\":\"histogram\"}],\"histogram2d\":[{\"colorbar\":{\"outlinewidth\":0,\"ticks\":\"\"},\"colorscale\":[[0.0,\"#0d0887\"],[0.1111111111111111,\"#46039f\"],[0.2222222222222222,\"#7201a8\"],[0.3333333333333333,\"#9c179e\"],[0.4444444444444444,\"#bd3786\"],[0.5555555555555556,\"#d8576b\"],[0.6666666666666666,\"#ed7953\"],[0.7777777777777778,\"#fb9f3a\"],[0.8888888888888888,\"#fdca26\"],[1.0,\"#f0f921\"]],\"type\":\"histogram2d\"}],\"histogram2dcontour\":[{\"colorbar\":{\"outlinewidth\":0,\"ticks\":\"\"},\"colorscale\":[[0.0,\"#0d0887\"],[0.1111111111111111,\"#46039f\"],[0.2222222222222222,\"#7201a8\"],[0.3333333333333333,\"#9c179e\"],[0.4444444444444444,\"#bd3786\"],[0.5555555555555556,\"#d8576b\"],[0.6666666666666666,\"#ed7953\"],[0.7777777777777778,\"#fb9f3a\"],[0.8888888888888888,\"#fdca26\"],[1.0,\"#f0f921\"]],\"type\":\"histogram2dcontour\"}],\"mesh3d\":[{\"colorbar\":{\"outlinewidth\":0,\"ticks\":\"\"},\"type\":\"mesh3d\"}],\"parcoords\":[{\"line\":{\"colorbar\":{\"outlinewidth\":0,\"ticks\":\"\"}},\"type\":\"parcoords\"}],\"pie\":[{\"automargin\":true,\"type\":\"pie\"}],\"scatter\":[{\"marker\":{\"colorbar\":{\"outlinewidth\":0,\"ticks\":\"\"}},\"type\":\"scatter\"}],\"scatter3d\":[{\"line\":{\"colorbar\":{\"outlinewidth\":0,\"ticks\":\"\"}},\"marker\":{\"colorbar\":{\"outlinewidth\":0,\"ticks\":\"\"}},\"type\":\"scatter3d\"}],\"scattercarpet\":[{\"marker\":{\"colorbar\":{\"outlinewidth\":0,\"ticks\":\"\"}},\"type\":\"scattercarpet\"}],\"scattergeo\":[{\"marker\":{\"colorbar\":{\"outlinewidth\":0,\"ticks\":\"\"}},\"type\":\"scattergeo\"}],\"scattergl\":[{\"marker\":{\"colorbar\":{\"outlinewidth\":0,\"ticks\":\"\"}},\"type\":\"scattergl\"}],\"scattermapbox\":[{\"marker\":{\"colorbar\":{\"outlinewidth\":0,\"ticks\":\"\"}},\"type\":\"scattermapbox\"}],\"scatterpolar\":[{\"marker\":{\"colorbar\":{\"outlinewidth\":0,\"ticks\":\"\"}},\"type\":\"scatterpolar\"}],\"scatterpolargl\":[{\"marker\":{\"colorbar\":{\"outlinewidth\":0,\"ticks\":\"\"}},\"type\":\"scatterpolargl\"}],\"scatterternary\":[{\"marker\":{\"colorbar\":{\"outlinewidth\":0,\"ticks\":\"\"}},\"type\":\"scatterternary\"}],\"surface\":[{\"colorbar\":{\"outlinewidth\":0,\"ticks\":\"\"},\"colorscale\":[[0.0,\"#0d0887\"],[0.1111111111111111,\"#46039f\"],[0.2222222222222222,\"#7201a8\"],[0.3333333333333333,\"#9c179e\"],[0.4444444444444444,\"#bd3786\"],[0.5555555555555556,\"#d8576b\"],[0.6666666666666666,\"#ed7953\"],[0.7777777777777778,\"#fb9f3a\"],[0.8888888888888888,\"#fdca26\"],[1.0,\"#f0f921\"]],\"type\":\"surface\"}],\"table\":[{\"cells\":{\"fill\":{\"color\":\"#EBF0F8\"},\"line\":{\"color\":\"white\"}},\"header\":{\"fill\":{\"color\":\"#C8D4E3\"},\"line\":{\"color\":\"white\"}},\"type\":\"table\"}]},\"layout\":{\"annotationdefaults\":{\"arrowcolor\":\"#2a3f5f\",\"arrowhead\":0,\"arrowwidth\":1},\"autotypenumbers\":\"strict\",\"coloraxis\":{\"colorbar\":{\"outlinewidth\":0,\"ticks\":\"\"}},\"colorscale\":{\"diverging\":[[0,\"#8e0152\"],[0.1,\"#c51b7d\"],[0.2,\"#de77ae\"],[0.3,\"#f1b6da\"],[0.4,\"#fde0ef\"],[0.5,\"#f7f7f7\"],[0.6,\"#e6f5d0\"],[0.7,\"#b8e186\"],[0.8,\"#7fbc41\"],[0.9,\"#4d9221\"],[1,\"#276419\"]],\"sequential\":[[0.0,\"#0d0887\"],[0.1111111111111111,\"#46039f\"],[0.2222222222222222,\"#7201a8\"],[0.3333333333333333,\"#9c179e\"],[0.4444444444444444,\"#bd3786\"],[0.5555555555555556,\"#d8576b\"],[0.6666666666666666,\"#ed7953\"],[0.7777777777777778,\"#fb9f3a\"],[0.8888888888888888,\"#fdca26\"],[1.0,\"#f0f921\"]],\"sequentialminus\":[[0.0,\"#0d0887\"],[0.1111111111111111,\"#46039f\"],[0.2222222222222222,\"#7201a8\"],[0.3333333333333333,\"#9c179e\"],[0.4444444444444444,\"#bd3786\"],[0.5555555555555556,\"#d8576b\"],[0.6666666666666666,\"#ed7953\"],[0.7777777777777778,\"#fb9f3a\"],[0.8888888888888888,\"#fdca26\"],[1.0,\"#f0f921\"]]},\"colorway\":[\"#636efa\",\"#EF553B\",\"#00cc96\",\"#ab63fa\",\"#FFA15A\",\"#19d3f3\",\"#FF6692\",\"#B6E880\",\"#FF97FF\",\"#FECB52\"],\"font\":{\"color\":\"#2a3f5f\"},\"geo\":{\"bgcolor\":\"white\",\"lakecolor\":\"white\",\"landcolor\":\"#E5ECF6\",\"showlakes\":true,\"showland\":true,\"subunitcolor\":\"white\"},\"hoverlabel\":{\"align\":\"left\"},\"hovermode\":\"closest\",\"mapbox\":{\"style\":\"light\"},\"paper_bgcolor\":\"white\",\"plot_bgcolor\":\"#E5ECF6\",\"polar\":{\"angularaxis\":{\"gridcolor\":\"white\",\"linecolor\":\"white\",\"ticks\":\"\"},\"bgcolor\":\"#E5ECF6\",\"radialaxis\":{\"gridcolor\":\"white\",\"linecolor\":\"white\",\"ticks\":\"\"}},\"scene\":{\"xaxis\":{\"backgroundcolor\":\"#E5ECF6\",\"gridcolor\":\"white\",\"gridwidth\":2,\"linecolor\":\"white\",\"showbackground\":true,\"ticks\":\"\",\"zerolinecolor\":\"white\"},\"yaxis\":{\"backgroundcolor\":\"#E5ECF6\",\"gridcolor\":\"white\",\"gridwidth\":2,\"linecolor\":\"white\",\"showbackground\":true,\"ticks\":\"\",\"zerolinecolor\":\"white\"},\"zaxis\":{\"backgroundcolor\":\"#E5ECF6\",\"gridcolor\":\"white\",\"gridwidth\":2,\"linecolor\":\"white\",\"showbackground\":true,\"ticks\":\"\",\"zerolinecolor\":\"white\"}},\"shapedefaults\":{\"line\":{\"color\":\"#2a3f5f\"}},\"ternary\":{\"aaxis\":{\"gridcolor\":\"white\",\"linecolor\":\"white\",\"ticks\":\"\"},\"baxis\":{\"gridcolor\":\"white\",\"linecolor\":\"white\",\"ticks\":\"\"},\"bgcolor\":\"#E5ECF6\",\"caxis\":{\"gridcolor\":\"white\",\"linecolor\":\"white\",\"ticks\":\"\"}},\"title\":{\"x\":0.05},\"xaxis\":{\"automargin\":true,\"gridcolor\":\"white\",\"linecolor\":\"white\",\"ticks\":\"\",\"title\":{\"standoff\":15},\"zerolinecolor\":\"white\",\"zerolinewidth\":2},\"yaxis\":{\"automargin\":true,\"gridcolor\":\"white\",\"linecolor\":\"white\",\"ticks\":\"\",\"title\":{\"standoff\":15},\"zerolinecolor\":\"white\",\"zerolinewidth\":2}}}},\"margin\":[5,5,5,5],\"name\":\"Plotly06589\",\"viewport_update_throttle\":200},\"id\":\"3520\",\"type\":\"panel.models.plotly.PlotlyPlot\"},{\"attributes\":{\"children\":[{\"id\":\"3737\"},{\"id\":\"3799\"}],\"margin\":[0,0,0,0],\"name\":\"Row06770\"},\"id\":\"3733\",\"type\":\"Row\"},{\"attributes\":{\"fill_alpha\":{\"value\":0.1},\"fill_color\":{\"value\":\"#30a2da\"},\"line_alpha\":{\"value\":0.1},\"top\":{\"field\":\"sale_price_sqr_foot\"},\"width\":{\"value\":0.8},\"x\":{\"field\":\"neighborhood\"}},\"id\":\"3709\",\"type\":\"VBar\"},{\"attributes\":{\"children\":[{\"id\":\"3529\"},{\"id\":\"3530\"},{\"id\":\"3600\"}],\"margin\":[0,0,0,0],\"name\":\"Column06663\"},\"id\":\"3528\",\"type\":\"Column\"},{\"attributes\":{},\"id\":\"3706\",\"type\":\"Selection\"},{\"attributes\":{\"bottom_units\":\"screen\",\"fill_alpha\":0.5,\"fill_color\":\"lightgrey\",\"left_units\":\"screen\",\"level\":\"overlay\",\"line_alpha\":1.0,\"line_color\":\"black\",\"line_dash\":[4,4],\"line_width\":2,\"right_units\":\"screen\",\"top_units\":\"screen\"},\"id\":\"3697\",\"type\":\"BoxAnnotation\"},{\"attributes\":{\"css_classes\":[\"markdown\"],\"margin\":[5,5,5,5],\"name\":\"Markdown06762\",\"text\":\"&lt;p&gt;San Francisco&amp;rsquo;s Most Expensive Neighborhoods&lt;/p&gt;\"},\"id\":\"3672\",\"type\":\"panel.models.markup.HTML\"},{\"attributes\":{\"bottom_units\":\"screen\",\"fill_alpha\":0.5,\"fill_color\":\"lightgrey\",\"left_units\":\"screen\",\"level\":\"overlay\",\"line_alpha\":1.0,\"line_color\":\"black\",\"line_dash\":[4,4],\"line_width\":2,\"right_units\":\"screen\",\"top_units\":\"screen\"},\"id\":\"3626\",\"type\":\"BoxAnnotation\"},{\"attributes\":{\"children\":[{\"id\":\"3667\"},{\"id\":\"3669\"}],\"margin\":[0,0,0,0],\"name\":\"Column06662\"},\"id\":\"3666\",\"type\":\"Column\"},{\"attributes\":{\"data\":{\"neighborhood\":[\"Union Square District\",\"Merced Heights\",\"Miraloma Park\",\"Pacific Heights\",\"Westwood Park\",\"Telegraph Hill\",\"Presidio Heights\",\"Cow Hollow\",\"Potrero Hill\",\"South Beach\"],\"sale_price_sqr_foot\":{\"__ndarray__\":\"JRAUMfI/jEB9IrkvwqaIQFx/3pp8XohAFZsVUHKMhUBr0ERas3iFQLsKhXgNJIVAy835O80ahUALV25bts+EQJrMCuEbsIRAya3y7v5QhEA=\",\"dtype\":\"float64\",\"order\":\"little\",\"shape\":[10]}},\"selected\":{\"id\":\"3706\"},\"selection_policy\":{\"id\":\"3722\"}},\"id\":\"3705\",\"type\":\"ColumnDataSource\"},{\"attributes\":{\"data\":{\"Variable\":[\"gross_rent\",\"gross_rent\",\"gross_rent\",\"gross_rent\",\"gross_rent\",\"gross_rent\",\"gross_rent\",\"sale_price_sqr_foot\",\"sale_price_sqr_foot\",\"sale_price_sqr_foot\",\"sale_price_sqr_foot\",\"sale_price_sqr_foot\",\"sale_price_sqr_foot\",\"sale_price_sqr_foot\"],\"value\":{\"__ndarray__\":\"AAAAAABck0AAAAAAAOiXQAAAAAAAKKJAAAAAAAA2p0AAAAAAAJCrQAAAAAAANq1AAAAAAAAmsUANRztY7TJyQJp+zNxvCHFAgpGzmi3jZkAoOiDQtDx4QBUyKcoYR35AjhXkUO3QgkBUIdyYtU91QA==\",\"dtype\":\"float64\",\"order\":\"little\",\"shape\":[14]},\"xoffsets\":[[\"2010\",\"gross_rent\"],[\"2011\",\"gross_rent\"],[\"2012\",\"gross_rent\"],[\"2013\",\"gross_rent\"],[\"2014\",\"gross_rent\"],[\"2015\",\"gross_rent\"],[\"2016\",\"gross_rent\"],[\"2010\",\"sale_price_sqr_foot\"],[\"2011\",\"sale_price_sqr_foot\"],[\"2012\",\"sale_price_sqr_foot\"],[\"2013\",\"sale_price_sqr_foot\"],[\"2014\",\"sale_price_sqr_foot\"],[\"2015\",\"sale_price_sqr_foot\"],[\"2016\",\"sale_price_sqr_foot\"]],\"year\":[\"2010\",\"2011\",\"2012\",\"2013\",\"2014\",\"2015\",\"2016\",\"2010\",\"2011\",\"2012\",\"2013\",\"2014\",\"2015\",\"2016\"]},\"selected\":{\"id\":\"3768\"},\"selection_policy\":{\"id\":\"3788\"}},\"id\":\"3767\",\"type\":\"ColumnDataSource\"},{\"attributes\":{\"active_drag\":\"auto\",\"active_inspect\":\"auto\",\"active_multi\":null,\"active_scroll\":\"auto\",\"active_tap\":\"auto\",\"tools\":[{\"id\":\"3603\"},{\"id\":\"3621\"},{\"id\":\"3622\"},{\"id\":\"3623\"},{\"id\":\"3624\"},{\"id\":\"3625\"}]},\"id\":\"3627\",\"type\":\"Toolbar\"},{\"attributes\":{},\"id\":\"3716\",\"type\":\"BasicTickFormatter\"},{\"attributes\":{\"line_color\":\"#30a2da\",\"line_width\":2,\"x\":{\"field\":\"year\"},\"y\":{\"field\":\"gross_rent\"}},\"id\":\"3637\",\"type\":\"Line\"},{\"attributes\":{\"line_alpha\":0.1,\"line_color\":\"#30a2da\",\"line_width\":2,\"x\":{\"field\":\"year\"},\"y\":{\"field\":\"gross_rent\"}},\"id\":\"3638\",\"type\":\"Line\"},{\"attributes\":{},\"id\":\"3788\",\"type\":\"UnionRenderers\"},{\"attributes\":{},\"id\":\"3643\",\"type\":\"BasicTickFormatter\"},{\"attributes\":{\"active_drag\":\"auto\",\"active_inspect\":\"auto\",\"active_multi\":null,\"active_scroll\":\"auto\",\"active_tap\":\"auto\",\"tools\":[{\"id\":\"3675\"},{\"id\":\"3692\"},{\"id\":\"3693\"},{\"id\":\"3694\"},{\"id\":\"3695\"},{\"id\":\"3696\"}]},\"id\":\"3698\",\"type\":\"Toolbar\"},{\"attributes\":{\"children\":[{\"id\":\"3523\"},{\"id\":\"3524\"},{\"id\":\"3525\"},{\"id\":\"3526\"}],\"margin\":[0,0,0,0],\"name\":\"Row06600\"},\"id\":\"3522\",\"type\":\"Row\"},{\"attributes\":{\"data_source\":{\"id\":\"3634\"},\"glyph\":{\"id\":\"3637\"},\"hover_glyph\":null,\"muted_glyph\":{\"id\":\"3639\"},\"nonselection_glyph\":{\"id\":\"3638\"},\"selection_glyph\":null,\"view\":{\"id\":\"3641\"}},\"id\":\"3640\",\"type\":\"GlyphRenderer\"},{\"attributes\":{\"margin\":[5,5,5,5],\"name\":\"Str06596\",\"text\":\"&lt;pre&gt;AxesSubplot(0.125,0.125;0.775x0.755)&lt;/pre&gt;\"},\"id\":\"3525\",\"type\":\"panel.models.markup.HTML\"},{\"attributes\":{\"source\":{\"id\":\"3634\"}},\"id\":\"3641\",\"type\":\"CDSView\"},{\"attributes\":{\"source\":{\"id\":\"3705\"}},\"id\":\"3712\",\"type\":\"CDSView\"},{\"attributes\":{\"line_alpha\":0.2,\"line_color\":\"#30a2da\",\"line_width\":2,\"x\":{\"field\":\"year\"},\"y\":{\"field\":\"gross_rent\"}},\"id\":\"3639\",\"type\":\"Line\"},{\"attributes\":{\"margin\":[20,20,20,20],\"min_width\":250,\"options\":[\"Alamo Square\",\"Anza Vista\",\"Bayview\",\"Buena Vista Park\",\"Central Richmond\",\"Central Sunset\",\"Corona Heights\",\"Cow Hollow\",\"Croker Amazon\",\"Diamond Heights\",\"Downtown \",\"Eureka Valley/Dolores Heights\",\"Excelsior\",\"Financial District North\",\"Financial District South\",\"Forest Knolls\",\"Glen Park\",\"Golden Gate Heights\",\"Haight Ashbury\",\"Hayes Valley\",\"Hunters Point\",\"Ingleside \",\"Inner Mission\",\"Inner Parkside\",\"Inner Richmond\",\"Inner Sunset\",\"Jordan Park/Laurel Heights\",\"Lake --The Presidio\",\"Lone Mountain\",\"Lower Pacific Heights\",\"Marina\",\"Miraloma Park\",\"Mission Bay\",\"Mission Dolores\",\"Mission Terrace\",\"Nob Hill\",\"Noe Valley\",\"Oceanview\",\"Outer Parkside\",\"Outer Richmond \",\"Outer Sunset\",\"Pacific Heights\",\"Park North\",\"Parkside\",\"Parnassus/Ashbury Heights\",\"Portola\",\"Potrero Hill\",\"Presidio Heights\",\"Russian Hill\",\"South Beach\",\"South of Market\",\"Sunnyside\",\"Telegraph Hill\",\"Twin Peaks\",\"Union Square District\",\"Van Ness/ Civic Center\",\"West Portal\",\"Western Addition\",\"Yerba Buena\",\"Bernal Heights \",\"Clarendon Heights\",\"Duboce Triangle\",\"Ingleside Heights\",\"North Beach\",\"North Waterfront\",\"Outer Mission\",\"Westwood Highlands\",\"Merced Heights\",\"Midtown Terrace\",\"Visitacion Valley\",\"Silver Terrace\",\"Westwood Park\",\"Bayview Heights\"],\"title\":\"neighborhood\",\"value\":\"Alamo Square\",\"width\":250},\"id\":\"3801\",\"type\":\"Select\"},{\"attributes\":{\"margin\":[20,20,20,20],\"min_width\":250,\"options\":[\"Alamo Square\",\"Anza Vista\",\"Bayview\",\"Buena Vista Park\",\"Central Richmond\",\"Central Sunset\",\"Corona Heights\",\"Cow Hollow\",\"Croker Amazon\",\"Diamond Heights\",\"Downtown \",\"Eureka Valley/Dolores Heights\",\"Excelsior\",\"Financial District North\",\"Financial District South\",\"Forest Knolls\",\"Glen Park\",\"Golden Gate Heights\",\"Haight Ashbury\",\"Hayes Valley\",\"Hunters Point\",\"Ingleside \",\"Inner Mission\",\"Inner Parkside\",\"Inner Richmond\",\"Inner Sunset\",\"Jordan Park/Laurel Heights\",\"Lake --The Presidio\",\"Lone Mountain\",\"Lower Pacific Heights\",\"Marina\",\"Miraloma Park\",\"Mission Bay\",\"Mission Dolores\",\"Mission Terrace\",\"Nob Hill\",\"Noe Valley\",\"Oceanview\",\"Outer Parkside\",\"Outer Richmond \",\"Outer Sunset\",\"Pacific Heights\",\"Park North\",\"Parkside\",\"Parnassus/Ashbury Heights\",\"Portola\",\"Potrero Hill\",\"Presidio Heights\",\"Russian Hill\",\"South Beach\",\"South of Market\",\"Sunnyside\",\"Telegraph Hill\",\"Twin Peaks\",\"Union Square District\",\"Van Ness/ Civic Center\",\"West Portal\",\"Western Addition\",\"Yerba Buena\",\"Bernal Heights \",\"Clarendon Heights\",\"Duboce Triangle\",\"Ingleside Heights\",\"North Beach\",\"North Waterfront\",\"Outer Mission\",\"Westwood Highlands\",\"Merced Heights\",\"Midtown Terrace\",\"Visitacion Valley\",\"Silver Terrace\",\"Westwood Park\",\"Bayview Heights\"],\"title\":\"neighborhood\",\"value\":\"Alamo Square\",\"width\":250},\"id\":\"3598\",\"type\":\"Select\"},{\"attributes\":{\"end\":2016.0,\"reset_end\":2016.0,\"reset_start\":2010.0,\"start\":2010.0,\"tags\":[[[\"year\",\"year\",null]]]},\"id\":\"3531\",\"type\":\"Range1d\"},{\"attributes\":{\"end\":4810.690068306854,\"reset_end\":4810.690068306854,\"reset_start\":0.0,\"tags\":[[[\"value\",\"value\",null]]]},\"id\":\"3735\",\"type\":\"Range1d\"},{\"attributes\":{},\"id\":\"3747\",\"type\":\"CategoricalTicker\"},{\"attributes\":{\"text\":\"neighborhood: Alamo Square\",\"text_color\":{\"value\":\"black\"},\"text_font_size\":{\"value\":\"12pt\"}},\"id\":\"3535\",\"type\":\"Title\"},{\"attributes\":{},\"id\":\"3573\",\"type\":\"BasicTickFormatter\"},{\"attributes\":{},\"id\":\"3539\",\"type\":\"LinearScale\"},{\"attributes\":{},\"id\":\"3645\",\"type\":\"BasicTickFormatter\"},{\"attributes\":{\"child\":{\"id\":\"3528\"},\"name\":\"Column06663\",\"title\":\"Neighborhood Analysis\"},\"id\":\"3670\",\"type\":\"Panel\"},{\"attributes\":{\"callback\":null,\"renderers\":[{\"id\":\"3570\"}],\"tags\":[\"hv_created\"],\"tooltips\":[[\"year\",\"@{year}\"],[\"sale_price_sqr_foot\",\"@{sale_price_sqr_foot}\"]]},\"id\":\"3533\",\"type\":\"HoverTool\"},{\"attributes\":{\"margin\":[20,20,20,20],\"min_width\":250,\"options\":[\"Alamo Square\",\"Anza Vista\",\"Bayview\",\"Buena Vista Park\",\"Central Richmond\",\"Central Sunset\",\"Corona Heights\",\"Cow Hollow\",\"Croker Amazon\",\"Diamond Heights\",\"Downtown \",\"Eureka Valley/Dolores Heights\",\"Excelsior\",\"Financial District North\",\"Financial District South\",\"Forest Knolls\",\"Glen Park\",\"Golden Gate Heights\",\"Haight Ashbury\",\"Hayes Valley\",\"Hunters Point\",\"Ingleside \",\"Inner Mission\",\"Inner Parkside\",\"Inner Richmond\",\"Inner Sunset\",\"Jordan Park/Laurel Heights\",\"Lake --The Presidio\",\"Lone Mountain\",\"Lower Pacific Heights\",\"Marina\",\"Miraloma Park\",\"Mission Bay\",\"Mission Dolores\",\"Mission Terrace\",\"Nob Hill\",\"Noe Valley\",\"Oceanview\",\"Outer Parkside\",\"Outer Richmond \",\"Outer Sunset\",\"Pacific Heights\",\"Park North\",\"Parkside\",\"Parnassus/Ashbury Heights\",\"Portola\",\"Potrero Hill\",\"Presidio Heights\",\"Russian Hill\",\"South Beach\",\"South of Market\",\"Sunnyside\",\"Telegraph Hill\",\"Twin Peaks\",\"Union Square District\",\"Van Ness/ Civic Center\",\"West Portal\",\"Western Addition\",\"Yerba Buena\",\"Bernal Heights \",\"Clarendon Heights\",\"Duboce Triangle\",\"Ingleside Heights\",\"North Beach\",\"North Waterfront\",\"Outer Mission\",\"Westwood Highlands\",\"Merced Heights\",\"Midtown Terrace\",\"Visitacion Valley\",\"Silver Terrace\",\"Westwood Park\",\"Bayview Heights\"],\"title\":\"neighborhood\",\"value\":\"Alamo Square\",\"width\":250},\"id\":\"3668\",\"type\":\"Select\"},{\"attributes\":{\"callback\":null,\"renderers\":[{\"id\":\"3773\"}],\"tags\":[\"hv_created\"],\"tooltips\":[[\"year\",\"@{year}\"],[\"Variable\",\"@{Variable}\"],[\"value\",\"@{value}\"]]},\"id\":\"3736\",\"type\":\"HoverTool\"},{\"attributes\":{},\"id\":\"3565\",\"type\":\"Selection\"},{\"attributes\":{\"end\":929.3801355198136,\"reset_end\":644.0175329447046,\"reset_start\":141.1976609302527,\"start\":0.0,\"tags\":[[[\"sale_price_sqr_foot\",\"sale_price_sqr_foot\",null]]]},\"id\":\"3532\",\"type\":\"Range1d\"},{\"attributes\":{\"margin\":[5,5,5,5],\"name\":\"VSpacer06661\",\"sizing_mode\":\"stretch_height\"},\"id\":\"3669\",\"type\":\"Spacer\"},{\"attributes\":{\"text\":\"San Francisco Neighboorhood Gross Rent & Sales Price Per Foot\",\"text_color\":{\"value\":\"black\"},\"text_font_size\":{\"value\":\"12pt\"}},\"id\":\"3738\",\"type\":\"Title\"},{\"attributes\":{\"axis\":{\"id\":\"3746\"},\"grid_line_color\":null,\"ticker\":null},\"id\":\"3748\",\"type\":\"Grid\"},{\"attributes\":{\"children\":[{\"id\":\"3598\"}],\"css_classes\":[\"panel-widget-box\"],\"margin\":[5,5,5,5],\"name\":\"WidgetBox06647\"},\"id\":\"3597\",\"type\":\"Column\"},{\"attributes\":{},\"id\":\"3742\",\"type\":\"CategoricalScale\"},{\"attributes\":{},\"id\":\"3544\",\"type\":\"BasicTicker\"},{\"attributes\":{\"children\":[{\"id\":\"3597\"},{\"id\":\"3599\"}],\"margin\":[0,0,0,0],\"name\":\"Column06653\"},\"id\":\"3596\",\"type\":\"Column\"},{\"attributes\":{\"below\":[{\"id\":\"3746\"}],\"center\":[{\"id\":\"3748\"},{\"id\":\"3752\"}],\"left\":[{\"id\":\"3749\"}],\"margin\":[5,5,5,5],\"min_border_bottom\":10,\"min_border_left\":10,\"min_border_right\":10,\"min_border_top\":10,\"plot_height\":500,\"plot_width\":700,\"renderers\":[{\"id\":\"3773\"}],\"sizing_mode\":\"fixed\",\"title\":{\"id\":\"3738\"},\"toolbar\":{\"id\":\"3759\"},\"x_range\":{\"id\":\"3734\"},\"x_scale\":{\"id\":\"3742\"},\"y_range\":{\"id\":\"3735\"},\"y_scale\":{\"id\":\"3744\"}},\"id\":\"3737\",\"subtype\":\"Figure\",\"type\":\"Plot\"},{\"attributes\":{\"axis\":{\"id\":\"3543\"},\"grid_line_color\":null,\"ticker\":null},\"id\":\"3546\",\"type\":\"Grid\"},{\"attributes\":{\"axis_label\":\"Year\",\"bounds\":\"auto\",\"formatter\":{\"id\":\"3776\"},\"major_label_orientation\":1.5707963267948966,\"ticker\":{\"id\":\"3747\"}},\"id\":\"3746\",\"type\":\"CategoricalAxis\"},{\"attributes\":{\"below\":[{\"id\":\"3543\"}],\"center\":[{\"id\":\"3546\"},{\"id\":\"3550\"}],\"left\":[{\"id\":\"3547\"}],\"margin\":[5,5,5,5],\"min_border_bottom\":10,\"min_border_left\":10,\"min_border_right\":10,\"min_border_top\":10,\"plot_height\":300,\"plot_width\":700,\"renderers\":[{\"id\":\"3570\"}],\"sizing_mode\":\"fixed\",\"title\":{\"id\":\"3535\"},\"toolbar\":{\"id\":\"3557\"},\"x_range\":{\"id\":\"3531\"},\"x_scale\":{\"id\":\"3539\"},\"y_range\":{\"id\":\"3532\"},\"y_scale\":{\"id\":\"3541\"}},\"id\":\"3534\",\"subtype\":\"Figure\",\"type\":\"Plot\"},{\"attributes\":{\"axis\":{\"id\":\"3749\"},\"dimension\":1,\"grid_line_color\":null,\"ticker\":null},\"id\":\"3752\",\"type\":\"Grid\"},{\"attributes\":{},\"id\":\"3552\",\"type\":\"PanTool\"},{\"attributes\":{},\"id\":\"3541\",\"type\":\"LinearScale\"},{\"attributes\":{},\"id\":\"3754\",\"type\":\"PanTool\"},{\"attributes\":{\"axis_label\":\"year\",\"bounds\":\"auto\",\"formatter\":{\"id\":\"3573\"},\"major_label_orientation\":\"horizontal\",\"ticker\":{\"id\":\"3544\"}},\"id\":\"3543\",\"type\":\"LinearAxis\"},{\"attributes\":{},\"id\":\"3744\",\"type\":\"LinearScale\"},{\"attributes\":{\"axis\":{\"id\":\"3547\"},\"dimension\":1,\"grid_line_color\":null,\"ticker\":null},\"id\":\"3550\",\"type\":\"Grid\"},{\"attributes\":{\"axis_label\":\"Price per Dollars\",\"bounds\":\"auto\",\"formatter\":{\"id\":\"3778\"},\"major_label_orientation\":\"horizontal\",\"ticker\":{\"id\":\"3750\"}},\"id\":\"3749\",\"type\":\"LinearAxis\"},{\"attributes\":{},\"id\":\"3750\",\"type\":\"BasicTicker\"},{\"attributes\":{\"axis_label\":\"sale_price_sqr_foot\",\"bounds\":\"auto\",\"formatter\":{\"id\":\"3575\"},\"major_label_orientation\":\"horizontal\",\"ticker\":{\"id\":\"3548\"}},\"id\":\"3547\",\"type\":\"LinearAxis\"},{\"attributes\":{},\"id\":\"3755\",\"type\":\"WheelZoomTool\"},{\"attributes\":{},\"id\":\"3548\",\"type\":\"BasicTicker\"},{\"attributes\":{},\"id\":\"3553\",\"type\":\"WheelZoomTool\"},{\"attributes\":{},\"id\":\"3753\",\"type\":\"SaveTool\"},{\"attributes\":{},\"id\":\"3805\",\"type\":\"UnionRenderers\"},{\"attributes\":{},\"id\":\"3806\",\"type\":\"Selection\"},{\"attributes\":{},\"id\":\"3551\",\"type\":\"SaveTool\"},{\"attributes\":{\"overlay\":{\"id\":\"3758\"}},\"id\":\"3756\",\"type\":\"BoxZoomTool\"},{\"attributes\":{},\"id\":\"3757\",\"type\":\"ResetTool\"},{\"attributes\":{\"overlay\":{\"id\":\"3556\"}},\"id\":\"3554\",\"type\":\"BoxZoomTool\"},{\"attributes\":{},\"id\":\"3555\",\"type\":\"ResetTool\"},{\"attributes\":{\"line_alpha\":0.1,\"line_color\":\"#30a2da\",\"line_width\":2,\"x\":{\"field\":\"year\"},\"y\":{\"field\":\"sale_price_sqr_foot\"}},\"id\":\"3568\",\"type\":\"Line\"},{\"attributes\":{},\"id\":\"3776\",\"type\":\"CategoricalTickFormatter\"},{\"attributes\":{},\"id\":\"3778\",\"type\":\"BasicTickFormatter\"},{\"attributes\":{\"children\":[{\"id\":\"3800\"},{\"id\":\"3802\"}],\"margin\":[0,0,0,0],\"name\":\"Column06777\"},\"id\":\"3799\",\"type\":\"Column\"},{\"attributes\":{\"bottom_units\":\"screen\",\"fill_alpha\":0.5,\"fill_color\":\"lightgrey\",\"left_units\":\"screen\",\"level\":\"overlay\",\"line_alpha\":1.0,\"line_color\":\"black\",\"line_dash\":[4,4],\"line_width\":2,\"right_units\":\"screen\",\"top_units\":\"screen\"},\"id\":\"3758\",\"type\":\"BoxAnnotation\"},{\"attributes\":{\"data_source\":{\"id\":\"3767\"},\"glyph\":{\"id\":\"3770\"},\"hover_glyph\":null,\"muted_glyph\":{\"id\":\"3772\"},\"nonselection_glyph\":{\"id\":\"3771\"},\"selection_glyph\":null,\"view\":{\"id\":\"3774\"}},\"id\":\"3773\",\"type\":\"GlyphRenderer\"},{\"attributes\":{\"bottom_units\":\"screen\",\"fill_alpha\":0.5,\"fill_color\":\"lightgrey\",\"left_units\":\"screen\",\"level\":\"overlay\",\"line_alpha\":1.0,\"line_color\":\"black\",\"line_dash\":[4,4],\"line_width\":2,\"right_units\":\"screen\",\"top_units\":\"screen\"},\"id\":\"3556\",\"type\":\"BoxAnnotation\"},{\"attributes\":{\"fill_alpha\":{\"value\":0.2},\"fill_color\":{\"field\":\"Variable\",\"transform\":{\"id\":\"3766\"}},\"line_alpha\":{\"value\":0.2},\"top\":{\"field\":\"value\"},\"width\":{\"value\":0.8},\"x\":{\"field\":\"xoffsets\"}},\"id\":\"3772\",\"type\":\"VBar\"},{\"attributes\":{},\"id\":\"3575\",\"type\":\"BasicTickFormatter\"},{\"attributes\":{},\"id\":\"3655\",\"type\":\"UnionRenderers\"},{\"attributes\":{},\"id\":\"3585\",\"type\":\"UnionRenderers\"},{\"attributes\":{\"margin\":[5,5,5,5],\"name\":\"Str06594\",\"text\":\"&lt;pre&gt;AxesSubplot(0.125,0.125;0.775x0.755)&lt;/pre&gt;\"},\"id\":\"3524\",\"type\":\"panel.models.markup.HTML\"},{\"attributes\":{\"line_color\":\"#30a2da\",\"line_width\":2,\"x\":{\"field\":\"year\"},\"y\":{\"field\":\"sale_price_sqr_foot\"}},\"id\":\"3567\",\"type\":\"Line\"},{\"attributes\":{\"children\":[{\"id\":\"3801\"}],\"css_classes\":[\"panel-widget-box\"],\"margin\":[5,5,5,5],\"name\":\"WidgetBox06771\"},\"id\":\"3800\",\"type\":\"Column\"},{\"attributes\":{\"data_source\":{\"id\":\"3564\"},\"glyph\":{\"id\":\"3567\"},\"hover_glyph\":null,\"muted_glyph\":{\"id\":\"3569\"},\"nonselection_glyph\":{\"id\":\"3568\"},\"selection_glyph\":null,\"view\":{\"id\":\"3571\"}},\"id\":\"3570\",\"type\":\"GlyphRenderer\"},{\"attributes\":{\"margin\":[5,5,5,5],\"name\":\"VSpacer06652\",\"sizing_mode\":\"stretch_height\"},\"id\":\"3599\",\"type\":\"Spacer\"},{\"attributes\":{\"active_drag\":\"auto\",\"active_inspect\":\"auto\",\"active_multi\":null,\"active_scroll\":\"auto\",\"active_tap\":\"auto\",\"tools\":[{\"id\":\"3736\"},{\"id\":\"3753\"},{\"id\":\"3754\"},{\"id\":\"3755\"},{\"id\":\"3756\"},{\"id\":\"3757\"}]},\"id\":\"3759\",\"type\":\"Toolbar\"},{\"attributes\":{\"line_alpha\":0.2,\"line_color\":\"#30a2da\",\"line_width\":2,\"x\":{\"field\":\"year\"},\"y\":{\"field\":\"sale_price_sqr_foot\"}},\"id\":\"3569\",\"type\":\"Line\"},{\"attributes\":{\"source\":{\"id\":\"3564\"}},\"id\":\"3571\",\"type\":\"CDSView\"},{\"attributes\":{\"source\":{\"id\":\"3767\"}},\"id\":\"3774\",\"type\":\"CDSView\"},{\"attributes\":{\"data\":{\"gross_rent\":[1239,1530,2324,2971,3528,3739,4390],\"year\":[2010,2011,2012,2013,2014,2015,2016]},\"selected\":{\"id\":\"3635\"},\"selection_policy\":{\"id\":\"3655\"}},\"id\":\"3634\",\"type\":\"ColumnDataSource\"},{\"attributes\":{\"fill_color\":{\"field\":\"Variable\",\"transform\":{\"id\":\"3766\"}},\"top\":{\"field\":\"value\"},\"width\":{\"value\":0.8},\"x\":{\"field\":\"xoffsets\"}},\"id\":\"3770\",\"type\":\"VBar\"},{\"attributes\":{\"fill_alpha\":{\"value\":0.1},\"fill_color\":{\"field\":\"Variable\",\"transform\":{\"id\":\"3766\"}},\"line_alpha\":{\"value\":0.1},\"top\":{\"field\":\"value\"},\"width\":{\"value\":0.8},\"x\":{\"field\":\"xoffsets\"}},\"id\":\"3771\",\"type\":\"VBar\"},{\"attributes\":{\"factors\":[[\"2010\",\"gross_rent\"],[\"2010\",\"sale_price_sqr_foot\"],[\"2011\",\"gross_rent\"],[\"2011\",\"sale_price_sqr_foot\"],[\"2012\",\"gross_rent\"],[\"2012\",\"sale_price_sqr_foot\"],[\"2013\",\"gross_rent\"],[\"2013\",\"sale_price_sqr_foot\"],[\"2014\",\"gross_rent\"],[\"2014\",\"sale_price_sqr_foot\"],[\"2015\",\"gross_rent\"],[\"2015\",\"sale_price_sqr_foot\"],[\"2016\",\"gross_rent\"],[\"2016\",\"sale_price_sqr_foot\"]],\"tags\":[[[\"year\",\"year\",null],[\"Variable\",\"Variable\",null]]]},\"id\":\"3734\",\"type\":\"FactorRange\"},{\"attributes\":{},\"id\":\"3768\",\"type\":\"Selection\"}],\"root_ids\":[\"3516\",\"3906\"]},\"title\":\"Bokeh Application\",\"version\":\"2.2.3\"}};\n",
       "    var render_items = [{\"docid\":\"7f71d899-f2cf-43cc-bec9-f65b17e67fc0\",\"root_ids\":[\"3516\"],\"roots\":{\"3516\":\"9a7dccb3-d5c7-462a-b01f-061eb96e6717\"}}];\n",
       "    root.Bokeh.embed.embed_items_notebook(docs_json, render_items);\n",
       "  }\n",
       "  if (root.Bokeh !== undefined && root.Bokeh.Panel !== undefined && root['Plotly'] !== undefined ) {\n",
       "    embed_document(root);\n",
       "  } else {\n",
       "    var attempts = 0;\n",
       "    var timer = setInterval(function(root) {\n",
       "      if (root.Bokeh !== undefined && root.Bokeh.Panel !== undefined && root['Plotly'] !== undefined) {\n",
       "        clearInterval(timer);\n",
       "        embed_document(root);\n",
       "      } else if (document.readyState == \"complete\") {\n",
       "        attempts++;\n",
       "        if (attempts > 100) {\n",
       "          clearInterval(timer);\n",
       "          console.log(\"Bokeh: ERROR: Unable to run BokehJS code because BokehJS library is missing\");\n",
       "        }\n",
       "      }\n",
       "    }, 10, root)\n",
       "  }\n",
       "})(window);</script>"
      ],
      "text/plain": [
       "Tabs\n",
       "    [0] Column\n",
       "        [0] Markdown(str)\n",
       "        [1] Plotly(Figure)\n",
       "    [1] Row\n",
       "        [0] Markdown(str)\n",
       "        [1] Str(AxesSubplot)\n",
       "        [2] Str(AxesSubplot)\n",
       "        [3] Str(AxesSubplot)\n",
       "    [2] Column\n",
       "        [0] Markdown(str)\n",
       "        [1] Row\n",
       "            [0] HoloViews(DynamicMap)\n",
       "            [1] Column\n",
       "                [0] WidgetBox\n",
       "                    [0] Select(margin=(20, 20, 20, 20), name='neighborhood', options=['Alamo Square', ...], value='Alamo Square', width=250)\n",
       "                [1] VSpacer()\n",
       "        [2] Row\n",
       "            [0] HoloViews(DynamicMap)\n",
       "            [1] Column\n",
       "                [0] WidgetBox\n",
       "                    [0] Select(margin=(20, 20, 20, 20), name='neighborhood', options=['Alamo Square', ...], value='Alamo Square', width=250)\n",
       "                [1] VSpacer()\n",
       "    [3] Column\n",
       "        [0] Markdown(str)\n",
       "        [1] HoloViews(Bars)\n",
       "        [2] Row\n",
       "            [0] HoloViews(DynamicMap)\n",
       "            [1] Column\n",
       "                [0] WidgetBox\n",
       "                    [0] Select(margin=(20, 20, 20, 20), name='neighborhood', options=['Alamo Square', ...], value='Alamo Square', width=250)\n",
       "                [1] VSpacer()"
      ]
     },
     "execution_count": 66,
     "metadata": {
      "application/vnd.holoviews_exec.v0+json": {
       "id": "3516"
      }
     },
     "output_type": "execute_result"
    }
   ],
   "source": [
    "# Serve the# dashboard\n",
    "# YOUR CODE HERE!\n",
    "sf_housing_dashboard.servable()"
   ]
  },
  {
   "cell_type": "markdown",
   "metadata": {},
   "source": [
    "# Debugging\n",
    "\n",
    "Note: Some of the Plotly express plots may not render in the notebook through the panel functions.\n",
    "\n",
    "However, you can test each plot by uncommenting the following code"
   ]
  },
  {
   "cell_type": "code",
   "execution_count": 46,
   "metadata": {},
   "outputs": [],
   "source": [
    "#housing_units_per_year()"
   ]
  },
  {
   "cell_type": "code",
   "execution_count": 47,
   "metadata": {},
   "outputs": [],
   "source": [
    "#average_gross_rent()"
   ]
  },
  {
   "cell_type": "code",
   "execution_count": 48,
   "metadata": {},
   "outputs": [],
   "source": [
    "#average_gross_sale()"
   ]
  },
  {
   "cell_type": "code",
   "execution_count": 49,
   "metadata": {},
   "outputs": [],
   "source": [
    "#average_sales_by_neighborhood()"
   ]
  },
  {
   "cell_type": "code",
   "execution_count": 50,
   "metadata": {},
   "outputs": [],
   "source": [
    "#average_rent_by_neighborhood()"
   ]
  },
  {
   "cell_type": "code",
   "execution_count": 51,
   "metadata": {},
   "outputs": [],
   "source": [
    "#top_most_expensive_neighborhoods()"
   ]
  },
  {
   "cell_type": "code",
   "execution_count": 52,
   "metadata": {},
   "outputs": [],
   "source": [
    "#most_expensive_neighborhoods_rent_sales()"
   ]
  },
  {
   "cell_type": "code",
   "execution_count": 53,
   "metadata": {},
   "outputs": [],
   "source": [
    "#neighborhood_map().show()"
   ]
  },
  {
   "cell_type": "code",
   "execution_count": null,
   "metadata": {},
   "outputs": [],
   "source": [
    "# parallel_categories()"
   ]
  },
  {
   "cell_type": "code",
   "execution_count": null,
   "metadata": {},
   "outputs": [],
   "source": [
    "# parallel_coordinates()"
   ]
  },
  {
   "cell_type": "code",
   "execution_count": null,
   "metadata": {},
   "outputs": [],
   "source": [
    "# sunburst()"
   ]
  },
  {
   "cell_type": "code",
   "execution_count": null,
   "metadata": {},
   "outputs": [],
   "source": []
  }
 ],
 "metadata": {
  "file_extension": ".py",
  "kernelspec": {
   "display_name": "Python 3",
   "language": "python",
   "name": "python3"
  },
  "language_info": {
   "codemirror_mode": {
    "name": "ipython",
    "version": 3
   },
   "file_extension": ".py",
   "mimetype": "text/x-python",
   "name": "python",
   "nbconvert_exporter": "python",
   "pygments_lexer": "ipython3",
   "version": "3.8.5"
  },
  "mimetype": "text/x-python",
  "name": "python",
  "npconvert_exporter": "python",
  "pygments_lexer": "ipython3",
  "version": 3
 },
 "nbformat": 4,
 "nbformat_minor": 4
}
